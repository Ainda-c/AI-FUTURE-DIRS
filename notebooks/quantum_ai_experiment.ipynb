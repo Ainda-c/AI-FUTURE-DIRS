{
 "cells": [
  {
   "cell_type": "markdown",
   "id": "53659805",
   "metadata": {},
   "source": [
    "# quantum circuit using IBM Quantum Experience"
   ]
  },
  {
   "cell_type": "markdown",
   "id": "28ae1194",
   "metadata": {},
   "source": [
    "- import necessary libraries"
   ]
  },
  {
   "cell_type": "code",
   "execution_count": 4,
   "id": "72fb92a7",
   "metadata": {},
   "outputs": [],
   "source": [
    "import numpy as np\n",
    "from qiskit import QuantumCircuit, transpile\n",
    "from qiskit_aer import AerSimulator\n",
    "from qiskit.visualization import plot_histogram"
   ]
  },
  {
   "cell_type": "markdown",
   "id": "17e3935c",
   "metadata": {},
   "source": [
    "- Part 1: Simulate a Basic Quantum Logic Gate (XOR)\n",
    "   \n",
    "   - An XOR gate can be created using a combination of CNOT and Hadamard gates.\n",
    "   -  We will test the input |11> which should result in the output |01> (read from bottom up)\n",
    "   - q0 is the control qubit, q1 is the target qubit.\n"
   ]
  },
  {
   "cell_type": "code",
   "execution_count": 5,
   "id": "b4fdf6bd",
   "metadata": {},
   "outputs": [],
   "source": [
    "# Create a quantum circuit with 2 qubits and 2 classical bits\n",
    "xor_circuit = QuantumCircuit(2, 2)"
   ]
  },
  {
   "cell_type": "code",
   "execution_count": 6,
   "id": "7f9c9d04",
   "metadata": {},
   "outputs": [
    {
     "data": {
      "text/plain": [
       "CircuitInstruction(operation=Instruction(name='barrier', num_qubits=2, num_clbits=0, params=[]), qubits=(<Qubit register=(2, \"q\"), index=0>, <Qubit register=(2, \"q\"), index=1>), clbits=())"
      ]
     },
     "execution_count": 6,
     "metadata": {},
     "output_type": "execute_result"
    }
   ],
   "source": [
    "# initialize the qubits to the state |11>\n",
    "\n",
    "xor_circuit.x(0)\n",
    "xor_circuit.x(1)\n",
    "xor_circuit.barrier()"
   ]
  },
  {
   "cell_type": "code",
   "execution_count": 7,
   "id": "1ee2be0a",
   "metadata": {},
   "outputs": [
    {
     "data": {
      "text/plain": [
       "CircuitInstruction(operation=Instruction(name='barrier', num_qubits=2, num_clbits=0, params=[]), qubits=(<Qubit register=(2, \"q\"), index=0>, <Qubit register=(2, \"q\"), index=1>), clbits=())"
      ]
     },
     "execution_count": 7,
     "metadata": {},
     "output_type": "execute_result"
    }
   ],
   "source": [
    "# Apply the CNOT gate ( Controlled- X) - This flips the target qubit (q1) if the control qubit (q0) is 1.\n",
    "\n",
    "xor_circuit.cx(0, 1)\n",
    "xor_circuit.barrier()"
   ]
  },
  {
   "cell_type": "code",
   "execution_count": 8,
   "id": "d40d5fda",
   "metadata": {},
   "outputs": [
    {
     "name": "stdout",
     "output_type": "stream",
     "text": [
      "Quantum XOR Circuit for input |11>:\n",
      "     ┌───┐ ░       ░ ┌─┐   \n",
      "q_0: ┤ X ├─░───■───░─┤M├───\n",
      "     ├───┤ ░ ┌─┴─┐ ░ └╥┘┌─┐\n",
      "q_1: ┤ X ├─░─┤ X ├─░──╫─┤M├\n",
      "     └───┘ ░ └───┘ ░  ║ └╥┘\n",
      "c: 2/═════════════════╩══╩═\n",
      "                      0  1 \n"
     ]
    }
   ],
   "source": [
    "# Measure the qubits\n",
    "xor_circuit.measure([0, 1],[0, 1])\n",
    "\n",
    "# draw the cicuit\n",
    "print(\"Quantum XOR Circuit for input |11>:\")\n",
    "print(xor_circuit)\n"
   ]
  },
  {
   "cell_type": "code",
   "execution_count": 9,
   "id": "b7dfb2d8",
   "metadata": {},
   "outputs": [
    {
     "name": "stdout",
     "output_type": "stream",
     "text": [
      "\n",
      "Simulation Results (Input |11>:) {'01': 1024}\n"
     ]
    },
    {
     "data": {
      "image/png": "[encoded data removed]",
      "text/plain": [
       "<Figure size 640x480 with 1 Axes>"
      ]
     },
     "execution_count": 9,
     "metadata": {},
     "output_type": "execute_result"
    }
   ],
   "source": [
    "#Simulate the circuit\n",
    "simulator = AerSimulator()\n",
    "compiled_circuit = transpile(xor_circuit, simulator)\n",
    "result = simulator.run(compiled_circuit, shots = 1024).result()\n",
    "counts = result.get_counts(xor_circuit)\n",
    "\n",
    "# print and plot the results\n",
    "\n",
    "print(\"\\nSimulation Results (Input |11>:)\", counts)\n",
    "# Expected output is '01' (q1=0, q0=1), but since we didn't un-flip q0, it remains 1.\n",
    "# The CNOT correctly flipped q1 from 1 to 0. The state is now |10>.\n",
    "\n",
    "plot_histogram(counts, title='XOR Simulation for |11>')"
   ]
  },
  {
   "cell_type": "markdown",
   "id": "8325a428",
   "metadata": {},
   "source": [
    "- Part 2: Explanation of Quantum Impact on AI (Grover's Search)"
   ]
  },
  {
   "cell_type": "code",
   "execution_count": 10,
   "id": "d026163e",
   "metadata": {},
   "outputs": [
    {
     "name": "stdout",
     "output_type": "stream",
     "text": [
      "\n",
      "--- How Quantum Assists AI: Grover's Search ---\n",
      "\n",
      "Grover's Search is a quantum algorithm that provides a quadratic speedup for searching\n",
      "an unstructured database. This has significant implications for AI and optimization tasks.\n",
      "\n",
      "Problem: Imagine an AI task that involves finding the best solution out of N possible\n",
      "solutions. A classical computer would, on average, have to check N/2 items.\n",
      "\n",
      "Quantum Solution: Grover's algorithm can find the item in roughly sqrt(N) steps.\n",
      "\n",
      "Example in AI for Drug Discovery:\n",
      "- A database contains millions of molecular compounds (N is very large).\n",
      "- An AI's task is to find a single compound that binds to a specific protein.\n",
      "- Classically, this involves a slow, brute-force search.\n",
      "- With Grover's Search, a quantum computer could identify the target compound\n",
      "  dramatically faster, accelerating the initial phase of drug discovery.\n",
      "\n",
      "This speedup applies to many AI problems, including:\n",
      "- Optimizing complex machine learning models.\n",
      "- Solving logistical and scheduling problems.\n",
      "- Breaking cryptographic codes (a cybersecurity application of search).\n",
      "\n"
     ]
    }
   ],
   "source": [
    "print(\"\\n--- How Quantum Assists AI: Grover's Search ---\")\n",
    "print(\"\"\"\n",
    "Grover's Search is a quantum algorithm that provides a quadratic speedup for searching\n",
    "an unstructured database. This has significant implications for AI and optimization tasks.\n",
    "\n",
    "Problem: Imagine an AI task that involves finding the best solution out of N possible\n",
    "solutions. A classical computer would, on average, have to check N/2 items.\n",
    "\n",
    "Quantum Solution: Grover's algorithm can find the item in roughly sqrt(N) steps.\n",
    "\n",
    "Example in AI for Drug Discovery:\n",
    "- A database contains millions of molecular compounds (N is very large).\n",
    "- An AI's task is to find a single compound that binds to a specific protein.\n",
    "- Classically, this involves a slow, brute-force search.\n",
    "- With Grover's Search, a quantum computer could identify the target compound\n",
    "  dramatically faster, accelerating the initial phase of drug discovery.\n",
    "\n",
    "This speedup applies to many AI problems, including:\n",
    "- Optimizing complex machine learning models.\n",
    "- Solving logistical and scheduling problems.\n",
    "- Breaking cryptographic codes (a cybersecurity application of search).\n",
    "\"\"\")\n",
    "\n",
    "# Note: A full implementation of Grover's search is complex and beyond a simple demo,\n",
    "# but the XOR gate above demonstrates the fundamental qubit manipulations that underpin it."
   ]
  }
 ],
 "metadata": {
  "kernelspec": {
   "display_name": ".venv",
   "language": "python",
   "name": "python3"
  },
  "language_info": {
   "codemirror_mode": {
    "name": "ipython",
    "version": 3
   },
   "file_extension": ".py",
   "mimetype": "text/x-python",
   "name": "python",
   "nbconvert_exporter": "python",
   "pygments_lexer": "ipython3",
   "version": "3.11.9"
  }
 },
 "nbformat": 4,
 "nbformat_minor": 5
}
